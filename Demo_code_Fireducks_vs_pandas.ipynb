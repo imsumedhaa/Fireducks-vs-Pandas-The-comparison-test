{
  "nbformat": 4,
  "nbformat_minor": 0,
  "metadata": {
    "colab": {
      "provenance": [],
      "gpuType": "V28",
      "authorship_tag": "ABX9TyMJaGNQ+wgPT6lPqWPUaAm1",
      "include_colab_link": true
    },
    "kernelspec": {
      "name": "python3",
      "display_name": "Python 3"
    },
    "language_info": {
      "name": "python"
    },
    "accelerator": "TPU"
  },
  "cells": [
    {
      "cell_type": "markdown",
      "metadata": {
        "id": "view-in-github",
        "colab_type": "text"
      },
      "source": [
        "<a href=\"https://colab.research.google.com/github/imsumedhaa/Fireducks-vs-Pandas-The-comparison-test/blob/main/Demo_code_Fireducks_vs_pandas.ipynb\" target=\"_parent\"><img src=\"https://colab.research.google.com/assets/colab-badge.svg\" alt=\"Open In Colab\"/></a>"
      ]
    },
    {
      "cell_type": "code",
      "execution_count": 2,
      "metadata": {
        "colab": {
          "base_uri": "https://localhost:8080/"
        },
        "id": "XKlcf1xCxVgA",
        "outputId": "a8da2b7b-c47b-4f2d-a9cf-c958a52fa6f5"
      },
      "outputs": [
        {
          "output_type": "stream",
          "name": "stdout",
          "text": [
            "Collecting fireducks\n",
            "  Downloading fireducks-1.2.8-cp311-cp311-manylinux_2_28_x86_64.whl.metadata (1.0 kB)\n",
            "Collecting firefw==1.2.8 (from fireducks)\n",
            "  Downloading firefw-1.2.8-py3-none-any.whl.metadata (818 bytes)\n",
            "Requirement already satisfied: pandas<2.3.0,>=1.5.3 in /usr/local/lib/python3.11/dist-packages (from fireducks) (2.2.2)\n",
            "Collecting pyarrow<19.1,>=19.0 (from fireducks)\n",
            "  Downloading pyarrow-19.0.1-cp311-cp311-manylinux_2_28_x86_64.whl.metadata (3.3 kB)\n",
            "Requirement already satisfied: numpy>=1.23.2 in /usr/local/lib/python3.11/dist-packages (from pandas<2.3.0,>=1.5.3->fireducks) (2.0.2)\n",
            "Requirement already satisfied: python-dateutil>=2.8.2 in /usr/local/lib/python3.11/dist-packages (from pandas<2.3.0,>=1.5.3->fireducks) (2.9.0.post0)\n",
            "Requirement already satisfied: pytz>=2020.1 in /usr/local/lib/python3.11/dist-packages (from pandas<2.3.0,>=1.5.3->fireducks) (2025.2)\n",
            "Requirement already satisfied: tzdata>=2022.7 in /usr/local/lib/python3.11/dist-packages (from pandas<2.3.0,>=1.5.3->fireducks) (2025.2)\n",
            "Requirement already satisfied: six>=1.5 in /usr/local/lib/python3.11/dist-packages (from python-dateutil>=2.8.2->pandas<2.3.0,>=1.5.3->fireducks) (1.17.0)\n",
            "Downloading fireducks-1.2.8-cp311-cp311-manylinux_2_28_x86_64.whl (7.4 MB)\n",
            "\u001b[2K   \u001b[90m━━━━━━━━━━━━━━━━━━━━━━━━━━━━━━━━━━━━━━━━\u001b[0m \u001b[32m7.4/7.4 MB\u001b[0m \u001b[31m54.6 MB/s\u001b[0m eta \u001b[36m0:00:00\u001b[0m\n",
            "\u001b[?25hDownloading firefw-1.2.8-py3-none-any.whl (12 kB)\n",
            "Downloading pyarrow-19.0.1-cp311-cp311-manylinux_2_28_x86_64.whl (42.1 MB)\n",
            "\u001b[2K   \u001b[90m━━━━━━━━━━━━━━━━━━━━━━━━━━━━━━━━━━━━━━━━\u001b[0m \u001b[32m42.1/42.1 MB\u001b[0m \u001b[31m34.3 MB/s\u001b[0m eta \u001b[36m0:00:00\u001b[0m\n",
            "\u001b[?25hInstalling collected packages: pyarrow, firefw, fireducks\n",
            "  Attempting uninstall: pyarrow\n",
            "    Found existing installation: pyarrow 20.0.0\n",
            "    Uninstalling pyarrow-20.0.0:\n",
            "      Successfully uninstalled pyarrow-20.0.0\n",
            "Successfully installed fireducks-1.2.8 firefw-1.2.8 pyarrow-19.0.1\n",
            "✅ Created 'sales_data.csv'\n"
          ]
        }
      ],
      "source": [
        "\n",
        "!pip install fireducks\n",
        "\n",
        "# Set environment variable for benchmark mode\n",
        "import os\n",
        "os.environ[\"FIREDUCKS_FLAGS\"] = \"--benchmark-mode\"\n",
        "\n",
        "import pandas as pd\n",
        "import fireducks.pandas as fd\n",
        "import time\n",
        "import numpy as np\n",
        "\n",
        "# Create dummy sales dataset\n",
        "df = pd.DataFrame({\n",
        "    \"product\": np.random.choice([\"apple\", \"banana\", \"orange\", \"kiwi\"], size=1_000_000),\n",
        "    \"region\": np.random.choice([\"north\", \"south\", \"east\", \"west\"], size=1_000_000),\n",
        "    \"price\": np.random.uniform(10, 200, size=1_000_000),\n",
        "    \"units_sold\": np.random.randint(1, 50, size=1_000_000)\n",
        "})\n",
        "df.to_csv(\"sales_data.csv\", index=False)\n",
        "print(\"✅ Created 'sales_data.csv'\")"
      ]
    },
    {
      "cell_type": "code",
      "source": [
        "# Read CSV\n",
        "\n",
        "start = time.time()\n",
        "pandas_df = pd.read_csv(\"sales_data.csv\")\n",
        "print(\"📄 Pandas Read Time:\", round((time.time() - start) * 1000, 2), \"ms\")\n",
        "\n",
        "start = time.time()\n",
        "fd_df = fd.read_csv(\"sales_data.csv\")\n",
        "print(\"🔥 FireDucks Read Time:\", round((time.time() - start) * 1000, 2), \"ms\")\n",
        "\n"
      ],
      "metadata": {
        "colab": {
          "base_uri": "https://localhost:8080/"
        },
        "id": "t7UfW3huyBqc",
        "outputId": "931046be-8037-4f35-c591-69fd14a46600"
      },
      "execution_count": 3,
      "outputs": [
        {
          "output_type": "stream",
          "name": "stdout",
          "text": [
            "📄 Pandas Read Time: 357.55 ms\n",
            "🔥 FireDucks Read Time: 53.36 ms\n"
          ]
        }
      ]
    },
    {
      "cell_type": "code",
      "source": [
        "#Filter ->price>100\n",
        "\n",
        "start = time.time()\n",
        "pandas_df[pandas_df['price'] > 100]\n",
        "print(\"📉 Pandas Filter Time:\", round((time.time() - start) * 1000, 2), \"ms\")\n",
        "\n",
        "start = time.time()\n",
        "fd_df[fd_df['price'] > 100]\n",
        "print(\"🔥 FireDucks Filter Time:\", round((time.time() - start) * 1000, 2), \"ms\")\n",
        "\n"
      ],
      "metadata": {
        "colab": {
          "base_uri": "https://localhost:8080/"
        },
        "id": "oppnhxVLyN_U",
        "outputId": "1a3126c4-2c20-4ac1-ca6f-e096ed45f6fd"
      },
      "execution_count": 4,
      "outputs": [
        {
          "output_type": "stream",
          "name": "stdout",
          "text": [
            "📉 Pandas Filter Time: 23.37 ms\n",
            "🔥 FireDucks Filter Time: 44.16 ms\n"
          ]
        }
      ]
    },
    {
      "cell_type": "code",
      "source": [
        "#Group by region, average price\n",
        "\n",
        "start = time.time()\n",
        "pandas_df.groupby('region')['price'].mean().reset_index()\n",
        "print(\"📊 Pandas GroupBy Time:\", round((time.time() - start) * 1000, 2), \"ms\")\n",
        "\n",
        "start = time.time()\n",
        "fd_df.groupby('region')['price'].mean().reset_index()\n",
        "print(\"🔥 FireDucks GroupBy Time:\", round((time.time() - start) * 1000, 2), \"ms\")\n"
      ],
      "metadata": {
        "colab": {
          "base_uri": "https://localhost:8080/"
        },
        "id": "0HJLIKFb0fhH",
        "outputId": "7941d68d-8e02-4982-e8de-ca15e1999be5"
      },
      "execution_count": 5,
      "outputs": [
        {
          "output_type": "stream",
          "name": "stdout",
          "text": [
            "📊 Pandas GroupBy Time: 60.97 ms\n",
            "🔥 FireDucks GroupBy Time: 17.49 ms\n"
          ]
        }
      ]
    },
    {
      "cell_type": "code",
      "source": [
        "#Sort by average price descending\n",
        "\n",
        "\n",
        "start = time.time()\n",
        "pandas_df.groupby('region')['price'].mean().reset_index().sort_values(by='price', ascending=False)\n",
        "print(\"🔽 Pandas Sort Time:\", round((time.time() - start) * 1000, 2), \"ms\")\n",
        "\n",
        "start = time.time()\n",
        "fd_df.groupby('region')['price'].mean().reset_index().sort_values(by='price', ascending=False)\n",
        "print(\"🔥 FireDucks Sort Time:\", round((time.time() - start) * 1000, 2), \"ms\")\n",
        "\n",
        "# ----------------------\n",
        "print(\"✅ Sales Benchmark Completed!\")\n",
        "\n"
      ],
      "metadata": {
        "colab": {
          "base_uri": "https://localhost:8080/"
        },
        "id": "972Kro1W0mvu",
        "outputId": "fb1687e2-0e37-4dee-ad25-db7c1e8b3eac"
      },
      "execution_count": 6,
      "outputs": [
        {
          "output_type": "stream",
          "name": "stdout",
          "text": [
            "🔽 Pandas Sort Time: 56.23 ms\n",
            "🔥 FireDucks Sort Time: 14.92 ms\n",
            "✅ Sales Benchmark Completed!\n"
          ]
        }
      ]
    }
  ]
}