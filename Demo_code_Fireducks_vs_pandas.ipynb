{
  "nbformat": 4,
  "nbformat_minor": 0,
  "metadata": {
    "colab": {
      "provenance": [],
      "authorship_tag": "ABX9TyPpO2rJM1nn/IHQKlKgDygj",
      "include_colab_link": true
    },
    "kernelspec": {
      "name": "python3",
      "display_name": "Python 3"
    },
    "language_info": {
      "name": "python"
    }
  },
  "cells": [
    {
      "cell_type": "markdown",
      "metadata": {
        "id": "view-in-github",
        "colab_type": "text"
      },
      "source": [
        "<a href=\"https://colab.research.google.com/github/imsumedhaa/Fireducks-vs-Pandas-The-comparison-test/blob/main/Demo_code_Fireducks_vs_pandas.ipynb\" target=\"_parent\"><img src=\"https://colab.research.google.com/assets/colab-badge.svg\" alt=\"Open In Colab\"/></a>"
      ]
    },
    {
      "cell_type": "code",
      "execution_count": 6,
      "metadata": {
        "colab": {
          "base_uri": "https://localhost:8080/"
        },
        "id": "XKlcf1xCxVgA",
        "outputId": "416b4260-a452-4a4f-c4e5-c03d826199d4"
      },
      "outputs": [
        {
          "output_type": "stream",
          "name": "stdout",
          "text": [
            "Requirement already satisfied: fireducks in /usr/local/lib/python3.11/dist-packages (1.2.7)\n",
            "Requirement already satisfied: firefw==1.2.7 in /usr/local/lib/python3.11/dist-packages (from fireducks) (1.2.7)\n",
            "Requirement already satisfied: pandas<2.3.0,>=1.5.3 in /usr/local/lib/python3.11/dist-packages (from fireducks) (2.2.2)\n",
            "Requirement already satisfied: pyarrow<19.1,>=19.0 in /usr/local/lib/python3.11/dist-packages (from fireducks) (19.0.1)\n",
            "Requirement already satisfied: numpy>=1.23.2 in /usr/local/lib/python3.11/dist-packages (from pandas<2.3.0,>=1.5.3->fireducks) (2.0.2)\n",
            "Requirement already satisfied: python-dateutil>=2.8.2 in /usr/local/lib/python3.11/dist-packages (from pandas<2.3.0,>=1.5.3->fireducks) (2.8.2)\n",
            "Requirement already satisfied: pytz>=2020.1 in /usr/local/lib/python3.11/dist-packages (from pandas<2.3.0,>=1.5.3->fireducks) (2025.2)\n",
            "Requirement already satisfied: tzdata>=2022.7 in /usr/local/lib/python3.11/dist-packages (from pandas<2.3.0,>=1.5.3->fireducks) (2025.2)\n",
            "Requirement already satisfied: six>=1.5 in /usr/local/lib/python3.11/dist-packages (from python-dateutil>=2.8.2->pandas<2.3.0,>=1.5.3->fireducks) (1.17.0)\n",
            "✅ Created 'sales_data.csv'\n"
          ]
        }
      ],
      "source": [
        "\n",
        "!pip install fireducks\n",
        "\n",
        "FIREDUCKS_FLAG=\"--benchmark-mode\"\n",
        "\n",
        "\n",
        "import pandas as pd\n",
        "import fireducks.pandas as fd\n",
        "import time\n",
        "import numpy as np\n",
        "\n",
        "#Create dummy sales datasets\n",
        "\n",
        "df = pd.DataFrame({\n",
        "  \"product\": np.random.choice([\"apple\", \"banana\", \"orange\", \"kiwi\"], size=1_000_000),\n",
        "  \"region\": np.random.choice([\"north\", \"south\", \"east\", \"west\"], size=1_000_000),\n",
        "  \"price\": np.random.uniform(10, 200, size=1_000_000),\n",
        "  \"units_sold\": np.random.randint(1, 50, size=1_000_000)\n",
        "})\n",
        "df.to_csv(\"sales_data.csv\", index=False)\n",
        "print(\"✅ Created 'sales_data.csv'\")\n",
        "\n"
      ]
    },
    {
      "cell_type": "code",
      "source": [
        "# Read CSV\n",
        "\n",
        "start = time.time()\n",
        "pandas_df = pd.read_csv(\"sales_data.csv\")\n",
        "print(\"📄 Pandas Read Time:\", round(time.time() - start, 4), \"sec\")\n",
        "start = time.time()\n",
        "fd_df = fd.read_csv(\"sales_data.csv\")\n",
        "print(\"🔥 FireDucks Read Time:\", round(time.time() - start, 4), \"sec\")\n",
        "\n"
      ],
      "metadata": {
        "colab": {
          "base_uri": "https://localhost:8080/"
        },
        "id": "t7UfW3huyBqc",
        "outputId": "87f171b0-1f44-43bf-cd04-77304224c397"
      },
      "execution_count": 7,
      "outputs": [
        {
          "output_type": "stream",
          "name": "stdout",
          "text": [
            "📄 Pandas Read Time: 0.8643 sec\n",
            "🔥 FireDucks Read Time: 0.0347 sec\n"
          ]
        }
      ]
    },
    {
      "cell_type": "code",
      "source": [
        "#Filter ->price>100\n",
        "\n",
        "start = time.time()\n",
        "filtered_pandas = pandas_df[pandas_df['price'] > 100]\n",
        "print(\"📉 Pandas Filter Time:\", round(time.time() - start, 4), \"sec\")\n",
        "start = time.time()\n",
        "filtered_fd = fd_df[fd_df['price'] > 100]\n",
        "print(\"🔥 FireDucks Filter Time:\", round(time.time() - start, 4), \"sec\")\n",
        "\n"
      ],
      "metadata": {
        "colab": {
          "base_uri": "https://localhost:8080/"
        },
        "id": "oppnhxVLyN_U",
        "outputId": "8d84936c-c523-4dd2-a300-d95a7c6b2a50"
      },
      "execution_count": 8,
      "outputs": [
        {
          "output_type": "stream",
          "name": "stdout",
          "text": [
            "📉 Pandas Filter Time: 0.0511 sec\n",
            "🔥 FireDucks Filter Time: 0.0009 sec\n"
          ]
        }
      ]
    },
    {
      "cell_type": "code",
      "source": [
        "#Group by region, average price\n",
        "\n",
        "start = time.time()\n",
        "\n",
        "group_pandas = filtered_pandas.groupby('region')['price'].mean().reset_index()\n",
        "\n",
        "print(\"📊 Pandas GroupBy Time:\", round(time.time() - start, 4), \"sec\")\n",
        "\n",
        "start = time.time()\n",
        "group_fd = filtered_fd.groupby('region')['price'].mean().reset_index()\n",
        "\n",
        "print(\"🔥 FireDucks GroupBy Time:\", round(time.time() - start, 4), \"sec\")\n"
      ],
      "metadata": {
        "colab": {
          "base_uri": "https://localhost:8080/"
        },
        "id": "0HJLIKFb0fhH",
        "outputId": "efd701da-5a6c-46a1-f6ae-1a8f78b71604"
      },
      "execution_count": 9,
      "outputs": [
        {
          "output_type": "stream",
          "name": "stdout",
          "text": [
            "📊 Pandas GroupBy Time: 0.0481 sec\n",
            "🔥 FireDucks GroupBy Time: 0.0029 sec\n"
          ]
        }
      ]
    },
    {
      "cell_type": "code",
      "source": [
        "#Sort by average price descending\n",
        "\n",
        "start = time.time()\n",
        "sorted_pandas = group_pandas.sort_values(by='price', ascending=False)\n",
        "print(\"🔽 Pandas Sort Time:\", round(time.time() - start, 4), \"sec\")\n",
        "start = time.time()\n",
        "sorted_fd = group_fd.sort_values(by='price', ascending=False)\n",
        "print(\"🔥 FireDucks Sort Time:\", round(time.time() - start, 4), \"sec\")\n",
        "# -----------------------------------\n",
        "print(\"✅ Sales Benchmark Completed!\")\n",
        "\n"
      ],
      "metadata": {
        "colab": {
          "base_uri": "https://localhost:8080/"
        },
        "id": "972Kro1W0mvu",
        "outputId": "732bd6b1-a28b-48d4-9cad-54a48d411046"
      },
      "execution_count": 11,
      "outputs": [
        {
          "output_type": "stream",
          "name": "stdout",
          "text": [
            "🔽 Pandas Sort Time: 0.0007 sec\n",
            "🔥 FireDucks Sort Time: 0.0004 sec\n",
            "✅ Sales Benchmark Completed!\n"
          ]
        }
      ]
    }
  ]
}