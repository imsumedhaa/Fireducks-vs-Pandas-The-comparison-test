{
  "nbformat": 4,
  "nbformat_minor": 0,
  "metadata": {
    "colab": {
      "provenance": [],
      "authorship_tag": "ABX9TyOr5CzLQEywxFsTRg765fGi",
      "include_colab_link": true
    },
    "kernelspec": {
      "name": "python3",
      "display_name": "Python 3"
    },
    "language_info": {
      "name": "python"
    }
  },
  "cells": [
    {
      "cell_type": "markdown",
      "metadata": {
        "id": "view-in-github",
        "colab_type": "text"
      },
      "source": [
        "<a href=\"https://colab.research.google.com/github/imsumedhaa/Fireducks-vs-Pandas-The-comparison-test/blob/main/Demo_code_Fireducks_vs_pandas.ipynb\" target=\"_parent\"><img src=\"https://colab.research.google.com/assets/colab-badge.svg\" alt=\"Open In Colab\"/></a>"
      ]
    },
    {
      "cell_type": "code",
      "execution_count": 2,
      "metadata": {
        "colab": {
          "base_uri": "https://localhost:8080/"
        },
        "id": "XKlcf1xCxVgA",
        "outputId": "2ac37fe0-fa8d-4ab4-9397-ccf74bd31f76"
      },
      "outputs": [
        {
          "output_type": "stream",
          "name": "stdout",
          "text": [
            "Collecting fireducks\n",
            "  Downloading fireducks-1.2.6-cp311-cp311-manylinux_2_28_x86_64.whl.metadata (1.0 kB)\n",
            "Collecting firefw==1.2.6 (from fireducks)\n",
            "  Downloading firefw-1.2.6-py3-none-any.whl.metadata (818 bytes)\n",
            "Requirement already satisfied: pandas<2.3.0,>=1.5.3 in /usr/local/lib/python3.11/dist-packages (from fireducks) (2.2.2)\n",
            "Collecting pyarrow<19.1,>=19.0 (from fireducks)\n",
            "  Downloading pyarrow-19.0.1-cp311-cp311-manylinux_2_28_x86_64.whl.metadata (3.3 kB)\n",
            "Requirement already satisfied: numpy>=1.23.2 in /usr/local/lib/python3.11/dist-packages (from pandas<2.3.0,>=1.5.3->fireducks) (2.0.2)\n",
            "Requirement already satisfied: python-dateutil>=2.8.2 in /usr/local/lib/python3.11/dist-packages (from pandas<2.3.0,>=1.5.3->fireducks) (2.8.2)\n",
            "Requirement already satisfied: pytz>=2020.1 in /usr/local/lib/python3.11/dist-packages (from pandas<2.3.0,>=1.5.3->fireducks) (2025.2)\n",
            "Requirement already satisfied: tzdata>=2022.7 in /usr/local/lib/python3.11/dist-packages (from pandas<2.3.0,>=1.5.3->fireducks) (2025.2)\n",
            "Requirement already satisfied: six>=1.5 in /usr/local/lib/python3.11/dist-packages (from python-dateutil>=2.8.2->pandas<2.3.0,>=1.5.3->fireducks) (1.17.0)\n",
            "Downloading fireducks-1.2.6-cp311-cp311-manylinux_2_28_x86_64.whl (7.4 MB)\n",
            "\u001b[2K   \u001b[90m━━━━━━━━━━━━━━━━━━━━━━━━━━━━━━━━━━━━━━━━\u001b[0m \u001b[32m7.4/7.4 MB\u001b[0m \u001b[31m33.1 MB/s\u001b[0m eta \u001b[36m0:00:00\u001b[0m\n",
            "\u001b[?25hDownloading firefw-1.2.6-py3-none-any.whl (12 kB)\n",
            "Downloading pyarrow-19.0.1-cp311-cp311-manylinux_2_28_x86_64.whl (42.1 MB)\n",
            "\u001b[2K   \u001b[90m━━━━━━━━━━━━━━━━━━━━━━━━━━━━━━━━━━━━━━━━\u001b[0m \u001b[32m42.1/42.1 MB\u001b[0m \u001b[31m16.3 MB/s\u001b[0m eta \u001b[36m0:00:00\u001b[0m\n",
            "\u001b[?25hInstalling collected packages: pyarrow, firefw, fireducks\n",
            "  Attempting uninstall: pyarrow\n",
            "    Found existing installation: pyarrow 18.1.0\n",
            "    Uninstalling pyarrow-18.1.0:\n",
            "      Successfully uninstalled pyarrow-18.1.0\n",
            "Successfully installed fireducks-1.2.6 firefw-1.2.6 pyarrow-19.0.1\n",
            "✅ Created 'sales_data.csv'\n"
          ]
        }
      ],
      "source": [
        "\n",
        "!pip install fireducks\n",
        "\n",
        "\n",
        "import pandas as pd\n",
        "import fireducks.pandas as fd\n",
        "import time\n",
        "import numpy as np\n",
        "\n",
        "#Create dummy sales datasets\n",
        "\n",
        "df = pd.DataFrame({\n",
        "  \"product\": np.random.choice([\"apple\", \"banana\", \"orange\", \"kiwi\"], size=1_000_000),\n",
        "  \"region\": np.random.choice([\"north\", \"south\", \"east\", \"west\"], size=1_000_000),\n",
        "  \"price\": np.random.uniform(10, 200, size=1_000_000),\n",
        "  \"units_sold\": np.random.randint(1, 50, size=1_000_000)\n",
        "})\n",
        "df.to_csv(\"sales_data.csv\", index=False)\n",
        "print(\"✅ Created 'sales_data.csv'\")\n",
        "\n"
      ]
    },
    {
      "cell_type": "code",
      "source": [
        "# Read CSV\n",
        "\n",
        "start = time.time()\n",
        "pandas_df = pd.read_csv(\"sales_data.csv\")\n",
        "print(\"📄 Pandas Read Time:\", round(time.time() - start, 4), \"sec\")\n",
        "start = time.time()\n",
        "fd_df = fd.read_csv(\"sales_data.csv\")\n",
        "print(\"🔥 FireDucks Read Time:\", round(time.time() - start, 4), \"sec\")\n",
        "\n"
      ],
      "metadata": {
        "colab": {
          "base_uri": "https://localhost:8080/"
        },
        "id": "t7UfW3huyBqc",
        "outputId": "bc1b51d5-400d-4200-d41b-30b654365690"
      },
      "execution_count": 3,
      "outputs": [
        {
          "output_type": "stream",
          "name": "stdout",
          "text": [
            "📄 Pandas Read Time: 0.712 sec\n",
            "🔥 FireDucks Read Time: 0.0514 sec\n"
          ]
        }
      ]
    },
    {
      "cell_type": "code",
      "source": [
        "#Filter ->price>100\n",
        "\n",
        "start = time.time()\n",
        "filtered_pandas = pandas_df[pandas_df['price'] > 100]\n",
        "print(\"📉 Pandas Filter Time:\", round(time.time() - start, 4), \"sec\")\n",
        "start = time.time()\n",
        "filtered_fd = fd_df[fd_df['price'] > 100]\n",
        "print(\"🔥 FireDucks Filter Time:\", round(time.time() - start, 4), \"sec\")\n",
        "\n"
      ],
      "metadata": {
        "colab": {
          "base_uri": "https://localhost:8080/"
        },
        "id": "oppnhxVLyN_U",
        "outputId": "37f4443d-6db1-44ca-a444-69351d5735df"
      },
      "execution_count": 4,
      "outputs": [
        {
          "output_type": "stream",
          "name": "stdout",
          "text": [
            "📉 Pandas Filter Time: 0.0801 sec\n",
            "🔥 FireDucks Filter Time: 0.0057 sec\n"
          ]
        }
      ]
    },
    {
      "cell_type": "code",
      "source": [
        "#Group by region, average price\n",
        "\n",
        "start = time.time()\n",
        "\n",
        "group_pandas = filtered_pandas.groupby('region')['price'].mean().reset_index()\n",
        "\n",
        "print(\"📊 Pandas GroupBy Time:\", round(time.time() - start, 4), \"sec\")\n",
        "\n",
        "start = time.time()\n",
        "group_fd = filtered_fd.groupby('region')['price'].mean().reset_index()\n",
        "\n",
        "print(\"🔥 FireDucks GroupBy Time:\", round(time.time() - start, 4), \"sec\")\n"
      ],
      "metadata": {
        "colab": {
          "base_uri": "https://localhost:8080/"
        },
        "id": "0HJLIKFb0fhH",
        "outputId": "9d640637-9c58-4160-bf64-a16af5c9fa8a"
      },
      "execution_count": 5,
      "outputs": [
        {
          "output_type": "stream",
          "name": "stdout",
          "text": [
            "📊 Pandas GroupBy Time: 0.0626 sec\n",
            "🔥 FireDucks GroupBy Time: 0.0076 sec\n"
          ]
        }
      ]
    },
    {
      "cell_type": "code",
      "source": [
        "#Sort by average price descending\n",
        "\n",
        "start = time.time()\n",
        "sorted_pandas = group_pandas.sort_values(by='price', ascending=False)\n",
        "print(\"🔽 Pandas Sort Time:\", round(time.time() - start, 4), \"sec\")\n",
        "start = time.time()\n",
        "sorted_fd = group_fd.sort_values(by='price', ascending=False)\n",
        "print(\"🔥 FireDucks Sort Time:\", round(time.time() - start, 4), \"sec\")\n",
        "# -----------------------------------\n",
        "print(\"✅ Sales Benchmark Completed!\")\n",
        "\n"
      ],
      "metadata": {
        "colab": {
          "base_uri": "https://localhost:8080/"
        },
        "id": "972Kro1W0mvu",
        "outputId": "0c2c356b-2928-4351-e258-2e2e9d6901fb"
      },
      "execution_count": 6,
      "outputs": [
        {
          "output_type": "stream",
          "name": "stdout",
          "text": [
            "🔽 Pandas Sort Time: 0.0044 sec\n",
            "🔥 FireDucks Sort Time: 0.0007 sec\n",
            "✅ Sales Benchmark Completed!\n"
          ]
        }
      ]
    }
  ]
}